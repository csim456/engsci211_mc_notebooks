{
 "cells": [
  {
   "cell_type": "markdown",
   "metadata": {},
   "source": [
    "# Multivariable Calculus - Gradient of a Scalar Field\n",
    "\n",
    "*ENGSCI 211 Mathematical Modelling 2*"
   ]
  },
  {
   "cell_type": "markdown",
   "metadata": {},
   "source": [
    "### Background to Notebook\n",
    "\n",
    "This notebook contains two demos aimed at improving your understanding of the gradient of a scalar field and the directional derivative.\n",
    "\n",
    "\n",
    "#### gradient()\n",
    "This demo contains two subplots.\n",
    "\n",
    "The subplot on the left shows the 3D surface associated with a function of two independent variables. The red points are the stationary points of the surface, and the black point is the one used in the gradient ascent/descent algorithm used in the other subplot.\n",
    "\n",
    "The subplot on the right shows, by default, a 2D contour plot of the surface. The red points indicate stationary points i.e. local minimum, maximum or saddle points for the surface. The black point is the starting location for an iterative gradient ascent/descent algorithm and can be modified. To see how the gradient vector points in direction of fastest increase in the function, you can increase the *iteration number* slider and change the step size to see how moving along the local gradient vector (gradient ascent), or negative gradient vector (gradient descent) can move towards a local stationary point. You can optionally show the entire gradient vector field of the surface.\n",
    "\n",
    "\n",
    "#### directionalderivative()\n",
    "This demo contains two subplots.\n",
    "\n",
    "The subplot on the left shows the 3D surface associated with a function of two independent variables. The red points are the stationary points of the surface, and the black point is the one used in the directional derivative calculation.\n",
    "\n",
    "The subplot on the right shows, by default, a 2D contour plot of the surface. The red points indicate stationary points i.e. local minimum, maximum or saddle points for the surface. The black point is the point at which the directional derivative is calculated. The gradient vector, $\\nabla f$, at that point is shown as a blue vector. The direction, $\\hat{a}$, in which we wish to determine the function's rate of change (i.e. the directional derivative) is shown as a red **unit** vector and can be modified. The dot product, $\\nabla f \\cdot \\hat{a}$, along the direction of $\\hat{a}$ is shown as a green vector and the value of $\\nabla f \\cdot \\hat{a}$ is equal to the rate of change of $f$ along the direction $\\hat{a}$ at the chosen point i.e. the directional derivative."
   ]
  },
  {
   "cell_type": "markdown",
   "metadata": {},
   "source": [
    "### Notebook Examples\n",
    "\n",
    "There are three different examples included in this notebook. The position vector for each example is given by:\n",
    "\n",
    "$$f_4 \\, (x,y) = \\frac{x^3}{3} - \\frac{y^3}{3} - x + y + 3$$\n",
    "\n",
    "$$f_5 \\, (x,y) = x^2 - y^2$$"
   ]
  },
  {
   "cell_type": "code",
   "execution_count": null,
   "metadata": {},
   "outputs": [],
   "source": [
    "# run this cell prior to the others\n",
    "from sourcecode_mc import gradient, directionalderivative\n",
    "%matplotlib inline"
   ]
  },
  {
   "cell_type": "code",
   "execution_count": null,
   "metadata": {
    "scrolled": false
   },
   "outputs": [],
   "source": [
    "gradient()"
   ]
  },
  {
   "cell_type": "code",
   "execution_count": null,
   "metadata": {},
   "outputs": [],
   "source": [
    "directionalderivative()"
   ]
  }
 ],
 "metadata": {
  "kernelspec": {
   "display_name": "Python 3",
   "language": "python",
   "name": "python3"
  },
  "language_info": {
   "codemirror_mode": {
    "name": "ipython",
    "version": 3
   },
   "file_extension": ".py",
   "mimetype": "text/x-python",
   "name": "python",
   "nbconvert_exporter": "python",
   "pygments_lexer": "ipython3",
   "version": "3.6.5"
  }
 },
 "nbformat": 4,
 "nbformat_minor": 2
}
