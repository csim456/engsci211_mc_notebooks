{
 "cells": [
  {
   "cell_type": "markdown",
   "metadata": {},
   "source": [
    "# Multivariable Calculus\n",
    "\n",
    "## 2. Space Curves"
   ]
  },
  {
   "cell_type": "code",
   "execution_count": null,
   "metadata": {},
   "outputs": [],
   "source": [
    "from widget_mc1 import acceleration"
   ]
  },
  {
   "cell_type": "markdown",
   "metadata": {},
   "source": [
    "### 2.4 Acceleration\n",
    "\n",
    "In addition to velocity, it is also possible to calculate the acceleration, $\\vec{a}$, of an object moving along a curve. It can be found by differentiating the velocity vector with respect to time:\n",
    "\n",
    "\\begin{equation*}\n",
    "\t\\vec{a}\\left(t\\right) = \\frac{d \\vec{v}}{dt} = \\frac{d^2x}{dt^2} \\hat{\\imath} + \\frac{d^2y}{dt^2} \\hat{\\jmath} + \\frac{d^2 z}{dt^2} \\hat{k}\n",
    "\\end{equation*}\n",
    "\n",
    "The total acceleration vector can be separated into two orthogonal components:\n",
    "\n",
    "\\begin{equation*}\n",
    "\t\\vec{a} = \\vec{a}_{\\text{tan}} + \\vec{a}_{\\text{norm}}\n",
    "\\end{equation*}\n",
    "\n",
    "- Tangential acceleration, $\\vec{a}_{\\text{tan}}$\n",
    "- Normal acceleration, $\\vec{a}_{\\text{norm}}$\n",
    "\n",
    "Recall that the velocity and unit tangent vectors point in the direction of travel. The unit tangent vector, $\\vec{\\tau}$, and tangential acceleration vector, $\\vec{a}_{\\text{tan}}$, therefore point in the same direction. We can therefore write the tangential acceleration vector as:\n",
    "\n",
    "\\begin{equation*}\n",
    "\t\\vec{a}_{\\text{tan}} = \\Vert \\vec{a}_{\\text{tan}} \\Vert \\, \\vec{\\tau}\n",
    "\\end{equation*}\n",
    "\n",
    "where $\\Vert \\vec{a}_{\\text{tan}} \\Vert$ is the magnitude of the tangential acceleration (and is therefore a scalar). This can be found by evaluating the dot product of the total acceleration and unit tangent vectors:\n",
    "\n",
    "\\begin{equation*}\n",
    "\t\\Vert \\vec{a}_{\\text{tan}} \\Vert = \\vec{a} \\cdot \\vec{\\tau}\n",
    "\\end{equation*}\n",
    "\n",
    "The general expression for the tangential acceleration vector is therefore given by:\n",
    "\n",
    "\\begin{equation*}\n",
    "\t\\vec{a}_{\\text{tan}} = \\underbrace{\\left( \\vec{a} \\cdot \\vec{\\tau} \\right)}_{\\Vert \\vec{a}_{\\text{tan}} \\Vert} \\vec{\\tau}\n",
    "\\end{equation*}\n",
    "\n",
    "The normal acceleration can then be found by subtracting the tangential acceleration vector from the total acceleration vector:\n",
    "\\begin{equation*}\n",
    "\t\\vec{a}_{\\text{norm}} = \\vec{a} - \\vec{a}_{\\text{tan}}\n",
    "\\end{equation*}\n"
   ]
  },
  {
   "cell_type": "markdown",
   "metadata": {},
   "source": [
    "#### Additional Example 1 (from Slides)"
   ]
  },
  {
   "cell_type": "code",
   "execution_count": null,
   "metadata": {},
   "outputs": [],
   "source": [
    "acceleration('Additional_Example_1')"
   ]
  },
  {
   "cell_type": "markdown",
   "metadata": {},
   "source": [
    "#### Additional Example 2 (from slides)"
   ]
  },
  {
   "cell_type": "code",
   "execution_count": null,
   "metadata": {},
   "outputs": [],
   "source": [
    "acceleration('Additional_Example_2')"
   ]
  }
 ],
 "metadata": {
  "kernelspec": {
   "display_name": "Python 3",
   "language": "python",
   "name": "python3"
  },
  "language_info": {
   "codemirror_mode": {
    "name": "ipython",
    "version": 3
   },
   "file_extension": ".py",
   "mimetype": "text/x-python",
   "name": "python",
   "nbconvert_exporter": "python",
   "pygments_lexer": "ipython3",
   "version": "3.6.5"
  }
 },
 "nbformat": 4,
 "nbformat_minor": 2
}
