{
 "cells": [
  {
   "cell_type": "markdown",
   "metadata": {},
   "source": [
    "# Multivariable Calculus - Double Integration\n",
    "\n",
    "*ENGSCI 211 Mathematical Modelling 2*"
   ]
  },
  {
   "cell_type": "markdown",
   "metadata": {},
   "source": [
    "### Background to Notebook\n",
    "\n",
    "This notebook contains a demo aimed at improving your understanding of finding the double integral for a non-rectangular integration region. The double integral included in this example is given by:\n",
    "\n",
    "$$\\int_{x=0}^{x=2} \\int_{y=0}^{y=2x} {y\\,dy\\,dx} = \\int_{y=0}^{y=4} \\int_{x=y/2}^{x=2} {y\\,dx\\,dy}$$\n",
    "\n",
    "For this example, the integration region is non-rectangular. Therefore, changing the order of integration requires a re-evaluation of the integral limits, as noted in the course book.\n",
    "\n",
    "#### doubleintegral()\n",
    "This demo shows the 3D surface defined only above the non-rectangular integration region.\n",
    "\n",
    "If the inner integral is with respect to $x$, it will return an expression for the area of a slice under the surface over the integration region as a function of $y$. This is represented by a blue slice in the demo. The outer integral then sums the area of these slices to find an expression for the volume. Try increasing the number of slices in the demo.\n",
    "\n",
    "Changing the order of integration, such that the inner integral is with respect to $y$, means that the inner integral now returns the area of a slice under the surface and over the integration region that is a function of $x$. In other words, the direction in which the slices are taken is changed, and therefore requires a new set of integral limits to be determined."
   ]
  },
  {
   "cell_type": "code",
   "execution_count": null,
   "metadata": {
    "scrolled": false
   },
   "outputs": [],
   "source": [
    "# run this cell to generate the interactive demo\n",
    "from sourcecode_mc import *\n",
    "%matplotlib inline\n",
    "\n",
    "doubleintegral()"
   ]
  }
 ],
 "metadata": {
  "kernelspec": {
   "display_name": "Python 3",
   "language": "python",
   "name": "python3"
  },
  "language_info": {
   "codemirror_mode": {
    "name": "ipython",
    "version": 3
   },
   "file_extension": ".py",
   "mimetype": "text/x-python",
   "name": "python",
   "nbconvert_exporter": "python",
   "pygments_lexer": "ipython3",
   "version": "3.6.5"
  }
 },
 "nbformat": 4,
 "nbformat_minor": 2
}
