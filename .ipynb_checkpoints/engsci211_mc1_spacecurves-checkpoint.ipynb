{
 "cells": [
  {
   "cell_type": "markdown",
   "metadata": {},
   "source": [
    "# Multivariable Calculus - Space Curves\n",
    "\n",
    "*ENGSCI 211 Mathematical Modelling 2*"
   ]
  },
  {
   "cell_type": "markdown",
   "metadata": {},
   "source": [
    "### Background to Notebook\n",
    "\n",
    "This notebook contains an interactive graphic aimed at improving your understanding of space curves. The figure contains two subplots.\n",
    "\n",
    "The subplot on the left shows, by default, the object's position in a Cartesian coordinate system as a function of time. You can change the start and end points of the time interval, as well as the time step. You can turn on/off visualisation of the object's position, velocity, unit tangent vector, total acceleration, and the tangential and normal components of acceleration.\n",
    "\n",
    "The subplot on the right shows, by default, the speed of the object as a function of time, $\\Vert \\vec{v}\\,(t) \\Vert$, and the total distance travelled along the space curve, $L$:\n",
    "$$L = \\int_{t_s}^{t_e }{\\Vert \\vec{v}\\,(t) \\Vert \\, dt}$$\n",
    "\n",
    "You can select to re-parameterise the object's motion by arc length (i.e. distanced travelled along space curve), which can be defined as a function of time using the *arc length function*:\n",
    "$$s(t) = \\int_0^t {\\Vert \\vec{v}\\,(t) \\Vert \\, dt}$$\n",
    "\n",
    "If the position vector is parameterised by arc length rather than by time (i.e. $\\vec{r}\\,(s)$ rather than $\\vec{r}\\,(t)$), the speed will always be equal to 1 (i.e. $\\Vert \\vec{v}\\,(s) \\Vert = 1$) and the total distance travelled is instead given by the integral:\n",
    "$$L = \\int_{s(t_s)}^{s(t_e)} {\\Vert \\vec{v}\\,(s) \\Vert \\, ds} = s(t_e) - s(t_s)$$\n",
    "\n",
    "\n"
   ]
  },
  {
   "cell_type": "markdown",
   "metadata": {},
   "source": [
    "### Notebook Examples\n",
    "\n",
    "There are three different examples included in this notebook. The position vector for each example is given by:\n",
    "\n",
    "$$\\vec{r}_1\\,(t) = \\left(\\cos(t) - 2\\right) \\hat{\\imath} + \\left(\\sin(t)+2\\right) \\hat{\\jmath}$$\n",
    "\n",
    "$$\\vec{r}_2\\,(t) = \\cos(t)\\;\\hat{\\imath} + \\sin(t)\\;\\hat{\\jmath} + t\\;\\hat{k}$$\n",
    "\n",
    "$$\\vec{r}_3\\,(t) = \\frac{t^2}{\\sqrt{2}} \\;\\hat{\\imath} + \\frac{t^2}{\\sqrt{2}}\\;\\hat{\\jmath}$$"
   ]
  },
  {
   "cell_type": "code",
   "execution_count": null,
   "metadata": {
    "scrolled": false
   },
   "outputs": [],
   "source": [
    "# Run this cell to generate the visual demonstration\n",
    "from sourcecode_mc import spacecurve\n",
    "%matplotlib inline\n",
    "\n",
    "spacecurve()"
   ]
  }
 ],
 "metadata": {
  "kernelspec": {
   "display_name": "Python 3",
   "language": "python",
   "name": "python3"
  },
  "language_info": {
   "codemirror_mode": {
    "name": "ipython",
    "version": 3
   },
   "file_extension": ".py",
   "mimetype": "text/x-python",
   "name": "python",
   "nbconvert_exporter": "python",
   "pygments_lexer": "ipython3",
   "version": "3.6.5"
  }
 },
 "nbformat": 4,
 "nbformat_minor": 2
}
