{
 "cells": [
  {
   "cell_type": "markdown",
   "metadata": {},
   "source": [
    "# Multivariable Calculus\n",
    "\n",
    "## 2. Space Curves"
   ]
  },
  {
   "cell_type": "code",
   "execution_count": 1,
   "metadata": {},
   "outputs": [],
   "source": [
    "from widget_mc1 import velocity_and_speed"
   ]
  },
  {
   "cell_type": "markdown",
   "metadata": {},
   "source": [
    "### 2.2 Velocity Vector\n",
    "\n",
    "The velocity vector of an object moving along a space curve can be found by differentiating each positional component with respect to time:\n",
    "\n",
    "\\begin{equation*}\n",
    "    \\vec{v}\\left(t\\right) = \\frac{d \\vec{r}}{dt} = \\frac{dx}{dt} \\hat{\\imath} + \\frac{dy}{dt} \\hat{\\jmath} + \\frac{dz}{dt} \\hat{k}\n",
    "\\end{equation*}\n",
    "\n",
    "The velocity vector is tangential to the space curve, and therefore points in the direction of travel. The magnitude of the velocity vector gives the speed of the object:\n",
    "\n",
    "\\begin{equation*}\n",
    "\t\\Vert \\vec{v}\\left(t\\right) \\Vert = \\sqrt{\\left(\\frac{dx}{dt}\\right)^2 + \\left(\\frac{dy}{dt}\\right)^2 + \\left(\\frac{dz}{dt}\\right)^2}\n",
    "\\end{equation*}\n",
    "\n",
    "It is possible to define the *unit tangent vector*, $\\vec{\\tau}$. This unit vector has a magnitude of 1 and points in the direction of the velocity i.e. is tangential to the object's space curve:\n",
    "\n",
    "\\begin{equation*}\n",
    "\t\\vec{\\tau} = \\frac{\\vec{v}\\left(t\\right)}{\\Vert \\vec{v}\\left(t\\right) \\Vert}\n",
    "\\end{equation*}"
   ]
  },
  {
   "cell_type": "markdown",
   "metadata": {},
   "source": [
    "#### Example 2.3\n",
    "\n",
    "The position vector of an object is given by:\n",
    "\n",
    "\\begin{equation*}\n",
    "\t\\vec{r}\\left(t\\right) = \\begin{bmatrix}\\cos t \\\\ \\sin t \\end{bmatrix}\n",
    "\\end{equation*}\n",
    "\n",
    "The velocity vector is therefore given by:\n",
    "\n",
    "\\begin{equation*}\n",
    "\t\\vec{v}\\left(t\\right) = \\begin{bmatrix} - \\sin t \\\\ \\cos t \\end{bmatrix}\n",
    "\\end{equation*}\n",
    "\n",
    "And the speed of the object is therefore given by:\n",
    "\n",
    "\\begin{equation*}\n",
    "\t\\Vert \\vec{v}\\left(t\\right) \\Vert = \\sqrt{\\sin^2 t + \\cos^2 t} = 1\n",
    "\\end{equation*}\n",
    "\n",
    "The unit tangent vector in this case is therefore identical to the velocity vector:\n",
    "\n",
    "\\begin{equation*}\n",
    "\t\\vec{\\tau}\\left(t\\right) = \\begin{bmatrix} - \\sin t \\\\ \\cos t \\end{bmatrix}\n",
    "\\end{equation*}"
   ]
  },
  {
   "cell_type": "code",
   "execution_count": 2,
   "metadata": {},
   "outputs": [
    {
     "data": {
      "application/vnd.jupyter.widget-view+json": {
       "model_id": "28b7821bc86641b1b0645ce659e38172",
       "version_major": 2,
       "version_minor": 0
      },
      "text/plain": [
       "VBox(children=(HBox(children=(FloatText(value=0.0, description='Time Start:'), FloatText(value=5.0, descriptio…"
      ]
     },
     "metadata": {},
     "output_type": "display_data"
    }
   ],
   "source": [
    "velocity_and_speed('Example_2_3')"
   ]
  }
 ],
 "metadata": {
  "kernelspec": {
   "display_name": "Python 3",
   "language": "python",
   "name": "python3"
  },
  "language_info": {
   "codemirror_mode": {
    "name": "ipython",
    "version": 3
   },
   "file_extension": ".py",
   "mimetype": "text/x-python",
   "name": "python",
   "nbconvert_exporter": "python",
   "pygments_lexer": "ipython3",
   "version": "3.6.5"
  }
 },
 "nbformat": 4,
 "nbformat_minor": 2
}
