{
 "cells": [
  {
   "cell_type": "markdown",
   "metadata": {},
   "source": [
    "# Multivariable Calculus\n",
    "\n",
    "## 2. Space Curves"
   ]
  },
  {
   "cell_type": "code",
   "execution_count": null,
   "metadata": {},
   "outputs": [],
   "source": [
    "from widget_mc1 import parameterisation"
   ]
  },
  {
   "cell_type": "markdown",
   "metadata": {},
   "source": [
    "### 2.1 Parameterisation\n",
    "\n",
    "Not all curves or equations can be represented as a function of one independent variable. For example, a circle of radius $r$ centred on the origin can be expressed as:\n",
    "\n",
    "\\begin{equation*}\\label{eq:equation_circle}\n",
    "\tx^2 + y^2 = r^2\n",
    "\\end{equation*}\n",
    "\n",
    "Although this equation can be re-arranged for either $x$ or $y$:\n",
    "\n",
    "\\begin{align*}\n",
    "\tx &= \\pm \\sqrt{r^2 - y^2} \\\\ \n",
    "\ty &= \\pm \\sqrt{r^2 - x^2}\n",
    "\\end{align*}\n",
    "\n",
    "it can be difficult to work with in this form. It is more convenient to express $x$ and $y$ in terms of a single parameter. For example, the parametric equations for a circle of radius $r$ are:\n",
    "\n",
    "\\begin{align}\n",
    "\t\\label{eq:parametric_circle_x} x(t) &= r \\cos t \\\\\n",
    "\t\\label{eq:parametric_circle_y} y(t) &= r \\sin t\n",
    "\\end{align}\n",
    "\n",
    "where $t$ is the parameter.\n",
    "\n",
    "If $x(t)$ and $y(t)$ represent Cartesian coordinates, and the parameter has limits $0 \\le t \\le 2\\pi$, then the parametric equations represent the curve traced out by a circle of radius $r$ centred on the origin.\n",
    "\n",
    "Parameterisation in mathematics can be thought of as the process of finding the parametric equation(s) of a curve or surface. Parametric equations are therefore commonly used to represent the coordinates of the points that make up a curve or surface.\n",
    "\n",
    "A curve in space (i.e. a *space curve*) can be considered as the path traced out by an object that moves along that curve. The coordinates of the particle will change as it moves along the curve, so it is natural to write these coordinates as a function of a single parameter e.g. time.\n",
    "\n",
    "Consider an object travelling through three-dimensional space:\n",
    "\n",
    "\\begin{equation*}\n",
    "\t\\vec{r}\\left( t \\right) = \\begin{bmatrix} x(t) \\\\ y(t) \\\\ z(t) \\end{bmatrix}\n",
    "\\end{equation*}\n",
    "\n",
    "where $\\vec{r}\\left( t \\right)$ is a position vector of the object as a function of time, $t$."
   ]
  },
  {
   "cell_type": "markdown",
   "metadata": {},
   "source": [
    "#### Example 2.1\n",
    "\n",
    "An object is travelling in a straight line through two-dimensional space. Its position as a function of time is given by:\n",
    "\n",
    "\\begin{equation*}\n",
    "\t\\vec{r}\\left( t \\right) = \\begin{bmatrix} t \\\\ t \\end{bmatrix}\n",
    "\\end{equation*}\n",
    "\n",
    "The parametric equations for this object are therefore given by:\n",
    "\n",
    "\\begin{align*}\n",
    "\tx(t) &= t \\\\\n",
    "\ty(t) &= t\n",
    "\\end{align*}"
   ]
  },
  {
   "cell_type": "code",
   "execution_count": null,
   "metadata": {},
   "outputs": [],
   "source": [
    "parameterisation('Example_2_1')"
   ]
  },
  {
   "cell_type": "markdown",
   "metadata": {},
   "source": [
    "#### Example 2.2\n",
    "\n",
    "Sketch the parametric curve represented by:\n",
    "\n",
    "\\begin{equation*}\n",
    "\t\\vec{r}\\left( t \\right) = \\begin{bmatrix} \\cos t \\\\ \\sin t \\\\ t \\end{bmatrix}\n",
    "\\end{equation*}\n",
    "\n",
    "over the time interval $0 \\le t \\le 2\\pi$."
   ]
  },
  {
   "cell_type": "code",
   "execution_count": null,
   "metadata": {},
   "outputs": [],
   "source": [
    "parameterisation('Example_2_2')"
   ]
  }
 ],
 "metadata": {
  "kernelspec": {
   "display_name": "Python 3",
   "language": "python",
   "name": "python3"
  },
  "language_info": {
   "codemirror_mode": {
    "name": "ipython",
    "version": 3
   },
   "file_extension": ".py",
   "mimetype": "text/x-python",
   "name": "python",
   "nbconvert_exporter": "python",
   "pygments_lexer": "ipython3",
   "version": "3.6.5"
  }
 },
 "nbformat": 4,
 "nbformat_minor": 2
}
