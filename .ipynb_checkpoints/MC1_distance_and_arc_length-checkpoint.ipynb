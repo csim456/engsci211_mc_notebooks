{
 "cells": [
  {
   "cell_type": "markdown",
   "metadata": {},
   "source": [
    "# Multivariable Calculus\n",
    "\n",
    "## 2. Space Curves"
   ]
  },
  {
   "cell_type": "code",
   "execution_count": null,
   "metadata": {},
   "outputs": [],
   "source": [
    "from widget_mc1 import distance_and_arc"
   ]
  },
  {
   "cell_type": "markdown",
   "metadata": {},
   "source": [
    "### 2.3 Distance and Arc Length\n",
    "\n",
    "The distance travelled by an object, $L$, as it moves along a space curve, within a time interval $a\\le t \\le b$, can be calculated by integrating the rate of change of displacement i.e. the speed:\n",
    "\n",
    "\\begin{equation*}\n",
    "\tL = \\int\\limits_{a}^{b} {\\Vert \\vec{v}\\left(t\\right) \\Vert \\, dt}\n",
    "\\end{equation*}\n",
    "\n",
    "In order to find a general expression for the length of a curve as a function of time, also known as the \\textit{arc length}, $s \\left(t\\right)$, the integral limits can be generalised to:\n",
    "\n",
    "\\begin{equation*}\n",
    "\ts \\left(t\\right) = \\int\\limits_{0}^{t} {\\Vert \\vec{v}\\left(t\\right) \\Vert \\, dt}\n",
    "\\end{equation*}\n",
    "\n",
    "This \\textit{arc length function} relates time to the distance travelled along a curve. It is therefore possible to express a position vector in terms of arc length, rather than time:\n",
    "\n",
    "\\begin{equation*}\n",
    "    \\vec{r}\\left(s\\right) = \\begin{bmatrix} x\\left(s\\right) \\\\ y\\left(s\\right) \\\\ z\\left(s\\right)\\end{bmatrix}\n",
    "\\end{equation*}\n",
    "\n",
    "Interestingly, if a position vector is parameterised by arc length rather than time, then the speed in terms of arc length is always equal to 1:\n",
    "\n",
    "\\begin{equation*}\n",
    "\t\\Vert \\vec{v}\\left(s\\right) \\Vert = 1\n",
    "\\end{equation*}"
   ]
  },
  {
   "cell_type": "markdown",
   "metadata": {},
   "source": [
    "#### Example 2.5\n",
    "\n",
    "A position vector is parameterised by time:\n",
    "\n",
    "\\begin{equation*}\n",
    "\t\\vec{r}\\left(t\\right) = \\begin{bmatrix} 2\\cos t \\\\ 2\\sin t \\\\ 0 \\end{bmatrix}\n",
    "\\end{equation*}\n",
    "\n",
    "In order to find the distance travelled by this object over the time interval, $0 \\le t \\le \\pi$, we need to find the speed and integrate over this time interval. The velocity is given by:\n",
    "\n",
    "\\begin{equation*}\n",
    "    \\vec{v}\\left(t\\right) = \\begin{bmatrix} -2 \\sin t \\\\ 2 \\cos t \\\\ 0 \\end{bmatrix}\n",
    "\\end{equation*}\n",
    "\t\n",
    "The speed is therefore given by:\n",
    "\n",
    "\\begin{equation*}\n",
    "\t\\Vert \\vec{v}\\left(t\\right) \\Vert = \\sqrt{4\\sin^2 t + 4\\cos^2 t} = \\sqrt{4} = 2\n",
    "\\end{equation*}\n",
    "\n",
    "The distance travelled for the time interval $0 \\le t \\le \\pi$ is given by:\n",
    "\n",
    "\\begin{align*}\n",
    "\tL &= \\int\\limits_{0}^{\\pi} {\\Vert \\vec{v}\\left(t\\right) \\Vert \\, dt} \\\\\n",
    "\tL &= \\int\\limits_{0}^{\\pi} {2 \\, dt} \\\\\n",
    "\tL &= 2\\pi\n",
    "\\end{align*}\n",
    "\n",
    "An alternative approach to calculating the distance travelled along the space curve is to parameterise the position vector in terms of arc length, rather than time. In order to do this, we can find the arc length function by integrating the speed:\n",
    "\n",
    "\\begin{align*}\n",
    "\ts &= \\int\\limits_{0}^{t} {\\Vert \\vec{v}\\left(t\\right) \\Vert \\, dt} \\\\\n",
    "\ts &= \\int\\limits_{0}^{t} {2 \\, dt} \\\\\n",
    "\ts &= 2t\n",
    "\\end{align*}\n",
    "\n",
    "The distance travelled in the time interval $0 \\leq t \\leq \\pi$ is therefore given by:\n",
    "\n",
    "\\begin{align*}\n",
    "\tL &= s \\left(\\pi \\right) - s \\left(0\\right) \\\\\n",
    "\t&= 2\\pi\n",
    "\\end{align*}\n",
    "\n",
    "Note that the arc length function can be re-arranged to express time as a function of arc length:\n",
    "\n",
    "\\begin{equation*}\n",
    "\tt = \\frac{s}{2}\n",
    "\\end{equation*}\n",
    "\n",
    "The position vector can therefore be parameterised by arc length:\n",
    "\n",
    "\\begin{equation*}\n",
    "\t\\vec{r}\\left(s\\right) = \\begin{bmatrix} 2\\cos \\left(\\frac{s}{2}\\right) \\\\ 2\\sin \\left(\\frac{s}{2}\\right) \\\\ 0 \\end{bmatrix}\n",
    "\\end{equation*}\n",
    "\n",
    "Recall that a position vector parameterised by arc length will have a speed equal to 1:\n",
    "\n",
    "\\begin{align*}\n",
    "    \\Vert \\vec{v}\\left(s\\right) \\Vert &= \\sqrt{\\sin^2 \\left(\\frac{s}{2}\\right) + \\cos^2 \\left(\\frac{s}{2}\\right)} = 1 \n",
    "\\end{align*}"
   ]
  },
  {
   "cell_type": "code",
   "execution_count": null,
   "metadata": {},
   "outputs": [],
   "source": [
    "distance_and_arc('Example_2_5')"
   ]
  }
 ],
 "metadata": {
  "kernelspec": {
   "display_name": "Python 3",
   "language": "python",
   "name": "python3"
  },
  "language_info": {
   "codemirror_mode": {
    "name": "ipython",
    "version": 3
   },
   "file_extension": ".py",
   "mimetype": "text/x-python",
   "name": "python",
   "nbconvert_exporter": "python",
   "pygments_lexer": "ipython3",
   "version": "3.6.5"
  }
 },
 "nbformat": 4,
 "nbformat_minor": 2
}
