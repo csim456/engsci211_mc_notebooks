{
 "cells": [
  {
   "cell_type": "markdown",
   "metadata": {},
   "source": [
    "# Multivariable Calculus\n",
    "\n",
    "## 2. Space Curves"
   ]
  },
  {
   "cell_type": "code",
   "execution_count": 1,
   "metadata": {},
   "outputs": [],
   "source": [
    "from widget_mc1 import work_done"
   ]
  },
  {
   "cell_type": "markdown",
   "metadata": {},
   "source": [
    "### 2.5 Work Done\n",
    "\n",
    "A vector field can describe the force acting on an object at specific points in space. For example:\n",
    "\n",
    "\\begin{equation*}\n",
    "\t\\vec{F} \\left(x,y\\right) = \\begin{bmatrix} F_x \\left(x,y\\right) \\\\ F_y \\left(x,y\\right) \\end{bmatrix}\n",
    "\\end{equation*}\n",
    "\n",
    "is a two-dimensional vector field. Consider an object following a curve through the vector field:\n",
    "\n",
    "\\begin{equation*}\n",
    "\t\\vec{r} \\left(t\\right) = \\begin{bmatrix} x\\left(t\\right) \\\\ y\\left(t\\right) \\end{bmatrix}\n",
    "\\end{equation*}\n",
    "\n",
    "This object will be acted on by a force at each point along the curve. The force experienced by the object can therefore be expressed in terms of the time parameter, $t$:\n",
    "\n",
    "\\begin{equation*}\n",
    "\t\\vec{F} \\left(t\\right) = \\begin{bmatrix} F_x \\left( t \\right) \\\\ F_y \\left(t \\right) \\end{bmatrix}\n",
    "\\end{equation*}\n",
    "\n",
    "For a constant force acting on an object, the work done by the force can be found by taking the dot product of the force $\\vec{F}$ and displacement $\\vec{r}$ vectors.\n",
    "\n",
    "However, the force experienced by the object may not be constant as it moves along a space curve through the force vector field. It is therefore necessary to calculate the work done for each small increment of time as it moves along the curve, $\\left[t, t+dt\\right]$:\n",
    "\n",
    "\\begin{equation*}\n",
    "\tW \\left(t\\right) = \\vec{F}\\left(t\\right) \\cdot d\\vec{r}\\left(t\\right)\n",
    "\\end{equation*}\n",
    "\n",
    "where $d\\vec{r}\\left(t\\right)$ is the change in displacement over the small time interval. In order to calculate the work done over a longer time interval $\\left[a, b\\right]$, the work done for each small increment must be summed. This can be achieved by integrating along the curve:\n",
    "\n",
    "\\begin{equation*}\n",
    "\tW = \\int\\limits_{a}^{b} {\\vec{F}\\left(t\\right) \\cdot d\\vec{r}\\left(t\\right)}\n",
    "\\end{equation*}\n",
    "\n",
    "Recall from before that the velocity vector gives the rate of change of displacement:\n",
    "\n",
    "\\begin{equation*}\n",
    "\t\\vec{v} \\left(t\\right) = \\frac{d \\vec{r}}{dt}\n",
    "\\end{equation*}\n",
    "\n",
    "Therefore, multiplying the velocity by the incremental change in time will return the change in displacement. In other words:\n",
    "\n",
    "\\begin{equation*}\n",
    "    d\\vec{r}\\left(t\\right) = \\vec{v}\\left(t\\right) dt\n",
    "\\end{equation*}\n",
    "\n",
    "Allowing the work done equation to be written as:\n",
    "\n",
    "\\begin{equation*}\n",
    "    W = \\int\\limits_{a}^{b} {\\vec{F}\\left(t\\right) \\cdot \\vec{v}\\left(t\\right) \\, dt}\n",
    "\\end{equation*}\n",
    "\n",
    "This is also known as a \\textit{line integral} and is a commonly used tool in Engineering."
   ]
  },
  {
   "cell_type": "markdown",
   "metadata": {},
   "source": [
    "#### Example 2.7\n",
    "\n",
    "An object is moving through a force vector field given by:\n",
    "\n",
    "\\begin{equation*}\n",
    "\t\\vec{F} \\left(x,y\\right) = \\begin{bmatrix} -y \\\\ xy \\end{bmatrix}\n",
    "\\end{equation*}\n",
    "\n",
    "The object follows a straight line curve given by:\n",
    "\n",
    "\\begin{equation*}\n",
    "\t\\vec{r} \\left(t\\right) = \\begin{bmatrix} t \\\\ 2t \\end{bmatrix} = \\begin{bmatrix} x \\left(t\\right) \\\\ y \\left(t\\right) \\end{bmatrix}\n",
    "\\end{equation*}\n",
    "\n",
    "Express the force acting on the object as a function of a single parameter, time $t$:\n",
    "\n",
    "\\begin{equation*}\n",
    "    \\vec{F} \\left(t\\right) = \\begin{bmatrix} -y\\left(t\\right) \\\\ x\\left(t\\right) y\\left(t\\right) \\end{bmatrix} = \\begin{bmatrix} -2t \\\\ 2t^2 \\end{bmatrix}\n",
    "\\end{equation*}\n",
    "\n",
    "The work done by the force over a time interval $\\left[0, 1\\right]$ can be found using the line integral:\n",
    "\n",
    "\\begin{align*}\n",
    "\tW &= \\int\\limits_{0}^{1} {\\vec{F}\\left(t\\right) \\cdot \\vec{v}\\left(t\\right) \\, dt} \\\\\n",
    "\t{} &= \\int\\limits_{0}^{1} {\\left( \\begin{bmatrix} -2t \\\\ 2t^2 \\end{bmatrix} \\cdot \\begin{bmatrix} 1 \\\\ 2 \\end{bmatrix} \\right) \\, dt} \\\\\n",
    "\t{} &= \\int\\limits_{0}^{1} {\\left(-2t + 4t^2 \\right) \\, dt} \\\\\n",
    "\t{} &= \\left[ -t^2 + \\frac{4t^3}{3}\\right]_{0}^{1} \\\\\n",
    "\t{} &= -1 + \\frac{4}{3} \\\\\n",
    "\t{} &= \\frac{1}{3}\n",
    "\\end{align*}"
   ]
  },
  {
   "cell_type": "code",
   "execution_count": 2,
   "metadata": {},
   "outputs": [
    {
     "data": {
      "application/vnd.jupyter.widget-view+json": {
       "model_id": "ed3fcaefde994e3c870f2f0536c40a05",
       "version_major": 2,
       "version_minor": 0
      },
      "text/plain": [
       "VBox(children=(HBox(children=(FloatText(value=0.0, description='Time Start:'), FloatText(value=1.0, descriptio…"
      ]
     },
     "metadata": {},
     "output_type": "display_data"
    }
   ],
   "source": [
    "work_done('Example_2_7')"
   ]
  }
 ],
 "metadata": {
  "kernelspec": {
   "display_name": "Python 3",
   "language": "python",
   "name": "python3"
  },
  "language_info": {
   "codemirror_mode": {
    "name": "ipython",
    "version": 3
   },
   "file_extension": ".py",
   "mimetype": "text/x-python",
   "name": "python",
   "nbconvert_exporter": "python",
   "pygments_lexer": "ipython3",
   "version": "3.6.5"
  }
 },
 "nbformat": 4,
 "nbformat_minor": 2
}
