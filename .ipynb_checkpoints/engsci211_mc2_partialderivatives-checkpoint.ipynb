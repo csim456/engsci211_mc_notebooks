{
 "cells": [
  {
   "cell_type": "markdown",
   "metadata": {},
   "source": [
    "# Multivariable Calculus - Partial Derivatives\n",
    "\n",
    "*ENGSCI 211 Mathematical Modelling 2*"
   ]
  },
  {
   "cell_type": "markdown",
   "metadata": {},
   "source": [
    "### Background to Notebook\n",
    "\n",
    "This notebook contains an interactive graphic aimed at improving your understanding of partial differentiation. The figure contains three subplots.\n",
    "\n",
    "The subplot on the left shows the 3D surface associated with a function of two independent variables. You can change the $x$ and $y$ range on the surface plot.\n",
    "\n",
    "The subplot on the upper right shows the function behaviour and partial derivative along the $x$ direction i.e. $y$ held constant. The subplot on the lower right shows the function behaviour and partial derivative along the $y$ direction i.e. $x$ held constant.\n",
    "\n",
    "You can change the coordinates of the point at which the two first-order partial derivatives are evaluated. The location of this point is also indicated on the left subplot."
   ]
  },
  {
   "cell_type": "markdown",
   "metadata": {},
   "source": [
    "### Notebook Examples\n",
    "\n",
    "There are three different examples to choose from. The maultivariable function for each example is given by:\n",
    "\n",
    "$$f_1 (x,y) = 1-x^2$$\n",
    "\n",
    "$$f_2 (x,y) = 2\\,x\\,y + y^2$$\n",
    "\n",
    "$$f_3 (x,y) = x^3\\,y + x\\,\\sin\\left(y^2\\right)$$"
   ]
  },
  {
   "cell_type": "code",
   "execution_count": 1,
   "metadata": {
    "scrolled": false
   },
   "outputs": [
    {
     "data": {
      "application/vnd.jupyter.widget-view+json": {
       "model_id": "560a1cfc7ea548e3abbeb99eb96e00c7",
       "version_major": 2,
       "version_minor": 0
      },
      "text/plain": [
       "VBox(children=(HBox(children=(Dropdown(description='Select Example', options=('Ex_1', 'Ex_2', 'Ex_3'), value='…"
      ]
     },
     "metadata": {},
     "output_type": "display_data"
    }
   ],
   "source": [
    "# Step 1: run to import and setup environment\n",
    "from sourcecode_mc import partialderivative\n",
    "%matplotlib inline\n",
    "\n",
    "partialderivative()"
   ]
  }
 ],
 "metadata": {
  "kernelspec": {
   "display_name": "Python 3",
   "language": "python",
   "name": "python3"
  },
  "language_info": {
   "codemirror_mode": {
    "name": "ipython",
    "version": 3
   },
   "file_extension": ".py",
   "mimetype": "text/x-python",
   "name": "python",
   "nbconvert_exporter": "python",
   "pygments_lexer": "ipython3",
   "version": "3.6.5"
  }
 },
 "nbformat": 4,
 "nbformat_minor": 2
}
